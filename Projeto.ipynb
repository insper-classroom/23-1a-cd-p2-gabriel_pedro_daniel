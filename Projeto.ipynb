{
 "cells": [
  {
   "cell_type": "code",
   "execution_count": 11,
   "metadata": {},
   "outputs": [],
   "source": [
    "# Importando as bibliotecas necessárias para esta atividade\n",
    "import pandas as pd\n",
    "import os\n"
   ]
  },
  {
   "cell_type": "code",
   "execution_count": 12,
   "metadata": {},
   "outputs": [
    {
     "name": "stdout",
     "output_type": "stream",
     "text": [
      "Esperamos trabalhar no diretório: \n",
      "c:\\Users\\Dani2\\Downloads\\CDADOS_PROJETO2\\23-1a-cd-p2-gabriel_pedro_daniel\n",
      "\n"
     ]
    }
   ],
   "source": [
    "print(f'Esperamos trabalhar no diretório: \\n{os.getcwd()}\\n')"
   ]
  },
  {
   "cell_type": "code",
   "execution_count": 13,
   "metadata": {},
   "outputs": [],
   "source": [
    "df= pd.read_csv('tic_domicilios_2021.csv', sep=';')"
   ]
  },
  {
   "cell_type": "code",
   "execution_count": 83,
   "metadata": {},
   "outputs": [
    {
     "data": {
      "text/plain": [
       "A4\n",
       "1     17404\n",
       "0      6499\n",
       "97       29\n",
       "98       18\n",
       "dtype: int64"
      ]
     },
     "execution_count": 83,
     "metadata": {},
     "output_type": "execute_result"
    }
   ],
   "source": [
    "df.loc[:,['A4']].value_counts()"
   ]
  },
  {
   "cell_type": "code",
   "execution_count": 163,
   "metadata": {},
   "outputs": [],
   "source": [
    "\n",
    "\n",
    "lista2=['AREA','RENDA_FAMILIAR_2','CLASSE_2015','COD_REGIAO_2','TV','DVD','TELEFONE_FIXO','VIDEOGAME','TV_ASSINATURA','ANTENA_PARABOLICA','A1_A','A1_B','A1_C','A4','A7A']\n",
    "df_novo = df.loc[:,['AREA','RENDA_FAMILIAR_2','CLASSE_2015','COD_REGIAO_2','TV','DVD','TELEFONE_FIXO','VIDEOGAME','TV_ASSINATURA','ANTENA_PARABOLICA','A1_A','A1_B','A1_C','A4','A7A']]\n",
    "\n",
    "\n",
    "\n",
    "for nomes in lista2:\n",
    "    df_novo[nomes] = df_novo[nomes].astype('category') \n",
    "#df_novo['A1_A'].value_counts()\n",
    "df_novo.dtypes\n",
    "\n",
    "\n",
    "\n",
    "lista_dos_A = ['A1_A','A1_B','A1_C','A4']\n",
    "\n",
    "for valores in lista_dos_A:\n",
    "    df_novo[valores].cat.categories = ['Não', 'Sim','Não sabe','Não respondeu']\n",
    "df_novo['A7A'].cat.categories = ['Não','Sim','Não sabe', 'Não respondeu','Não se aplica']\n",
    "df_novo['TV_ASSINATURA'].cat.categories = ['Não tem', 'Tem']\n",
    "df_novo['ANTENA_PARABOLICA'].cat.categories = ['Não tem','Tem']\n",
    "df_novo['VIDEOGAME'].cat.categories = ['Não tem','Tem']\n",
    "df_novo['TELEFONE_FIXO'].cat.categories = ['Não tem','Tem']\n",
    "df_novo['DVD'].cat.categories = ['Não tem','1','2','3','4 ou mais']\n",
    "df_novo['TV'].cat.categories = ['Não tem','1','2','3','4 ou mais']\n",
    "df_novo['AREA'].cat.categories = ['Urbana','Rural']\n",
    "df_novo['COD_REGIAO_2'].cat.categories = ['Sudeste','Nordeste','Sul','Norte','Centro-Oeste']\n",
    "df_novo['CLASSE_2015'].cat.categories = ['A','B','C','DE']\n",
    "df_novo['RENDA_FAMILIAR_2'].cat.categories = ['Até 1 SM','Mais de 1 SM até 2 SM','Mais de 2 SM até 3 SM','Mais de 3 SM até 5 SM','Mais de 5 SM até 10 SM','Mais de 10 SM','Não tem renda','Não sabe','Não respondeu']\n",
    "\n"
   ]
  },
  {
   "cell_type": "code",
   "execution_count": 164,
   "metadata": {},
   "outputs": [
    {
     "data": {
      "text/plain": [
       "Até 1 SM                  9668\n",
       "Mais de 1 SM até 2 SM     6136\n",
       "Mais de 2 SM até 3 SM     2818\n",
       "Mais de 3 SM até 5 SM     1699\n",
       "Não sabe                  1002\n",
       "Mais de 5 SM até 10 SM     835\n",
       "Não respondeu              799\n",
       "Não tem renda              715\n",
       "Mais de 10 SM              278\n",
       "Name: RENDA_FAMILIAR_2, dtype: int64"
      ]
     },
     "execution_count": 164,
     "metadata": {},
     "output_type": "execute_result"
    }
   ],
   "source": [
    "\n",
    "df_novo['RENDA_FAMILIAR_2'].value_counts()\n",
    "\n"
   ]
  }
 ],
 "metadata": {
  "kernelspec": {
   "display_name": "base",
   "language": "python",
   "name": "python3"
  },
  "language_info": {
   "codemirror_mode": {
    "name": "ipython",
    "version": 3
   },
   "file_extension": ".py",
   "mimetype": "text/x-python",
   "name": "python",
   "nbconvert_exporter": "python",
   "pygments_lexer": "ipython3",
   "version": "3.9.12"
  },
  "orig_nbformat": 4
 },
 "nbformat": 4,
 "nbformat_minor": 2
}
